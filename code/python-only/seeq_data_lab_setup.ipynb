{
 "cells": [
  {
   "cell_type": "markdown",
   "id": "1e429ffa-e0f1-4be7-97cb-708d5f830cff",
   "metadata": {},
   "source": [
    "The following describes steps taken to enable the notebooks in this `python-only` folder to run in Seeq Data Lab. \n",
    "\n",
    "1. Move to python 3.11 version in SDL.\n",
    "2. Install the following python modules.\n",
    "    3. lightgbm\n",
    "    4. shap\n",
    "    5. pycaret\n",
    "    6. pca\n",
    "    7. scikit-fda\n",
    "3. Run each of the 4 included analysis notebooks.\n",
    "    4. Without error - at least one has a deprication warning.\n",
    "    5. Dist_column_pycaret_(AutoML)\n",
    "    6. Dist_column_SHAP\n",
    "    7. Dist_column_sklearn\n",
    "    8. Dryer_dataset_Imanol_et_al_2022_code\n",
    "\n",
    "As final prep for deeper analysis I cleared all output from each notebook and pushed back to the repo branch. "
   ]
  }
 ],
 "metadata": {
  "kernelspec": {
   "display_name": "Python 3.11",
   "language": "python",
   "name": "python311"
  },
  "language_info": {
   "codemirror_mode": {
    "name": "ipython",
    "version": 3
   },
   "file_extension": ".py",
   "mimetype": "text/x-python",
   "name": "python",
   "nbconvert_exporter": "python",
   "pygments_lexer": "ipython3",
   "version": "3.11.9"
  }
 },
 "nbformat": 4,
 "nbformat_minor": 5
}
